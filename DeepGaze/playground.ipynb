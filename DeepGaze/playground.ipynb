{
 "cells": [
  {
   "cell_type": "code",
   "execution_count": 1,
   "id": "a74c21b0",
   "metadata": {},
   "outputs": [
    {
     "ename": "AttributeError",
     "evalue": "module 'pysaliency' has no attribute 'read_json'",
     "output_type": "error",
     "traceback": [
      "\u001b[31m---------------------------------------------------------------------------\u001b[39m",
      "\u001b[31mAttributeError\u001b[39m                            Traceback (most recent call last)",
      "\u001b[36mCell\u001b[39m\u001b[36m \u001b[39m\u001b[32mIn[1]\u001b[39m\u001b[32m, line 5\u001b[39m\n\u001b[32m      2\u001b[39m \u001b[38;5;28;01mimport\u001b[39;00m\u001b[38;5;250m \u001b[39m\u001b[34;01mnumpy\u001b[39;00m\u001b[38;5;250m \u001b[39m\u001b[38;5;28;01mas\u001b[39;00m\u001b[38;5;250m \u001b[39m\u001b[34;01mnp\u001b[39;00m,\u001b[38;5;250m \u001b[39m\u001b[34;01mimageio\u001b[39;00m\u001b[34;01m.\u001b[39;00m\u001b[34;01mv3\u001b[39;00m\u001b[38;5;250m \u001b[39m\u001b[38;5;28;01mas\u001b[39;00m\u001b[38;5;250m \u001b[39m\u001b[34;01miio\u001b[39;00m,\u001b[38;5;250m \u001b[39m\u001b[34;01mpickle\u001b[39;00m,\u001b[38;5;250m \u001b[39m\u001b[34;01mtorch\u001b[39;00m\n\u001b[32m      3\u001b[39m \u001b[38;5;28;01mimport\u001b[39;00m\u001b[38;5;250m \u001b[39m\u001b[34;01mpysaliency\u001b[39;00m\n\u001b[32m----> \u001b[39m\u001b[32m5\u001b[39m stim   = \u001b[43mpysaliency\u001b[49m\u001b[43m.\u001b[49m\u001b[43mread_json\u001b[49m(\u001b[33m'\u001b[39m\u001b[33mMIT1003_twosize/stimuli.json\u001b[39m\u001b[33m'\u001b[39m)\n\u001b[32m      6\u001b[39m fix    = pickle.load(\u001b[38;5;28mopen\u001b[39m(\u001b[33m'\u001b[39m\u001b[33mMIT1003_twosize/scanpaths_twosize.pkl\u001b[39m\u001b[33m'\u001b[39m,\u001b[33m'\u001b[39m\u001b[33mrb\u001b[39m\u001b[33m'\u001b[39m))\n\u001b[32m      7\u001b[39m w,h    = \u001b[32m1024\u001b[39m,\u001b[32m768\u001b[39m\n",
      "\u001b[31mAttributeError\u001b[39m: module 'pysaliency' has no attribute 'read_json'"
     ]
    }
   ],
   "source": [
    "from pathlib import Path, PurePath\n",
    "import numpy as np, imageio.v3 as iio, pickle, torch\n",
    "import pysaliency\n",
    "\n",
    "stim   = pysaliency.read_json('MIT1003_twosize/stimuli.json')\n",
    "fix    = pickle.load(open('MIT1003_twosize/scanpaths_twosize.pkl','rb'))\n",
    "w,h    = 1024,768\n",
    "\n",
    "# 1. out-of-bounds rate\n",
    "xs,ys  = fix.train_xs.flatten(), fix.train_ys.flatten()\n",
    "oob    = ((xs<0)|(xs>=w)|(ys<0)|(ys>=h)).mean()\n",
    "print('out-of-bounds fixes %:', oob*100)\n",
    "\n",
    "# 2. grid stride check\n",
    "downsample, readout = 2,14\n",
    "print('effective stride px:', downsample*readout)\n",
    "\n",
    "# 3. center-bias sanity\n",
    "cb = CrossvalidatedBaselineModel(stim, fix, bandwidth=10**-1.666767, eps=10**-14.88419)\n",
    "ll = cb.information_gain(stim, fix, average='image')\n",
    "print('baseline IG (should be ~0):', ll)\n"
   ]
  }
 ],
 "metadata": {
  "kernelspec": {
   "display_name": "default",
   "language": "python",
   "name": "python3"
  },
  "language_info": {
   "codemirror_mode": {
    "name": "ipython",
    "version": 3
   },
   "file_extension": ".py",
   "mimetype": "text/x-python",
   "name": "python",
   "nbconvert_exporter": "python",
   "pygments_lexer": "ipython3",
   "version": "3.12.10"
  }
 },
 "nbformat": 4,
 "nbformat_minor": 5
}
