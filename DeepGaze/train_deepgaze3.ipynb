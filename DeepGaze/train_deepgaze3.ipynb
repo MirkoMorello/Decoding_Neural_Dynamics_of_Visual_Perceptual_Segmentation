{
 "cells": [
  {
   "cell_type": "code",
   "execution_count": 1,
   "metadata": {},
   "outputs": [],
   "source": [
    "from collections import OrderedDict\n",
    "import os\n",
    "from pathlib import Path\n",
    "import shutil\n",
    "\n",
    "from imageio.v3 import imread, imwrite\n",
    "from PIL import Image\n",
    "import pysaliency\n",
    "from pysaliency.baseline_utils import BaselineModel, CrossvalidatedBaselineModel\n",
    "import numpy as np\n",
    "import torch\n",
    "import torch.nn as nn\n",
    "import torch.nn.functional as F\n",
    "from torch.utils import model_zoo\n",
    "\n",
    "from tqdm import tqdm\n",
    "\n",
    "\n",
    "from deepgaze_pytorch.layers import (\n",
    "    Conv2dMultiInput,\n",
    "    LayerNorm,\n",
    "    LayerNormMultiInput,\n",
    "    Bias,\n",
    "    FlexibleScanpathHistoryEncoding\n",
    ")\n",
    "\n",
    "from deepgaze_pytorch.modules import DeepGazeIII, FeatureExtractor\n",
    "from deepgaze_pytorch.features.densenet import RGBDenseNet201\n",
    "from deepgaze_pytorch.data import ImageDataset, ImageDatasetSampler, FixationDataset, FixationMaskTransform\n",
    "from deepgaze_pytorch.training import _train\n"
   ]
  },
  {
   "cell_type": "code",
   "execution_count": 2,
   "metadata": {},
   "outputs": [],
   "source": [
    "def build_saliency_network(input_channels):\n",
    "    return nn.Sequential(OrderedDict([\n",
    "        ('layernorm0', LayerNorm(input_channels)),\n",
    "        ('conv0', nn.Conv2d(input_channels, 8, (1, 1), bias=False)),\n",
    "        ('bias0', Bias(8)),\n",
    "        ('softplus0', nn.Softplus()),\n",
    "\n",
    "        ('layernorm1', LayerNorm(8)),\n",
    "        ('conv1', nn.Conv2d(8, 16, (1, 1), bias=False)),\n",
    "        ('bias1', Bias(16)),\n",
    "        ('softplus1', nn.Softplus()),\n",
    "\n",
    "        ('layernorm2', LayerNorm(16)),\n",
    "        ('conv2', nn.Conv2d(16, 1, (1, 1), bias=False)),\n",
    "        ('bias2', Bias(1)),\n",
    "        ('softplus2', nn.Softplus()),\n",
    "    ]))\n",
    "\n",
    "\n",
    "def build_scanpath_network():\n",
    "    return nn.Sequential(OrderedDict([\n",
    "        ('encoding0', FlexibleScanpathHistoryEncoding(in_fixations=4, channels_per_fixation=3, out_channels=128, kernel_size=[1, 1], bias=True)),\n",
    "        ('softplus0', nn.Softplus()),\n",
    "\n",
    "        ('layernorm1', LayerNorm(128)),\n",
    "        ('conv1', nn.Conv2d(128, 16, (1, 1), bias=False)),\n",
    "        ('bias1', Bias(16)),\n",
    "        ('softplus1', nn.Softplus()),\n",
    "    ]))\n",
    "\n",
    "\n",
    "def build_fixation_selection_network(scanpath_features=16):\n",
    "    return nn.Sequential(OrderedDict([\n",
    "        ('layernorm0', LayerNormMultiInput([1, scanpath_features])),\n",
    "        ('conv0', Conv2dMultiInput([1, scanpath_features], 128, (1, 1), bias=False)),\n",
    "        ('bias0', Bias(128)),\n",
    "        ('softplus0', nn.Softplus()),\n",
    "\n",
    "        ('layernorm1', LayerNorm(128)),\n",
    "        ('conv1', nn.Conv2d(128, 16, (1, 1), bias=False)),\n",
    "        ('bias1', Bias(16)),\n",
    "        ('softplus1', nn.Softplus()),\n",
    "\n",
    "        ('conv2', nn.Conv2d(16, 1, (1, 1), bias=False)),\n",
    "    ]))"
   ]
  },
  {
   "cell_type": "code",
   "execution_count": 3,
   "metadata": {},
   "outputs": [],
   "source": [
    "def prepare_spatial_dataset(stimuli, fixations, centerbias, batch_size, path=None):\n",
    "    if path is not None:\n",
    "        path.mkdir(parents=True, exist_ok=True)\n",
    "        lmdb_path = str(path)\n",
    "    else:\n",
    "        lmdb_path = None\n",
    "\n",
    "    dataset = ImageDataset(\n",
    "        stimuli=stimuli,\n",
    "        fixations=fixations,\n",
    "        centerbias_model=centerbias,\n",
    "        transform=FixationMaskTransform(sparse=False),\n",
    "        average='image',\n",
    "        lmdb_path=lmdb_path,\n",
    "    )\n",
    "\n",
    "    loader = torch.utils.data.DataLoader(\n",
    "        dataset,\n",
    "        batch_sampler=ImageDatasetSampler(dataset, batch_size=batch_size),\n",
    "        pin_memory=False,\n",
    "        num_workers=0,\n",
    "    )\n",
    "\n",
    "    return loader"
   ]
  },
  {
   "cell_type": "code",
   "execution_count": 4,
   "metadata": {},
   "outputs": [],
   "source": [
    "def prepare_scanpath_dataset(stimuli, fixations, centerbias, batch_size, path=None):\n",
    "    if path is not None:\n",
    "        path.mkdir(parents=True, exist_ok=True)\n",
    "        lmdb_path = str(path)\n",
    "    else:\n",
    "        lmdb_path = None\n",
    "\n",
    "    dataset = FixationDataset(\n",
    "        stimuli=stimuli,\n",
    "        fixations=fixations,\n",
    "        centerbias_model=centerbias,\n",
    "        included_fixations=[-1, -2, -3, -4],\n",
    "        allow_missing_fixations=True,\n",
    "        transform=FixationMaskTransform(sparse=False),\n",
    "        average='image',\n",
    "        lmdb_path=lmdb_path,\n",
    "    )\n",
    "\n",
    "    loader = torch.utils.data.DataLoader(\n",
    "        dataset,\n",
    "        batch_sampler=ImageDatasetSampler(dataset, batch_size=batch_size),\n",
    "        pin_memory=False,\n",
    "        num_workers=0,\n",
    "    )\n",
    "\n",
    "    return loader"
   ]
  },
  {
   "cell_type": "code",
   "execution_count": 5,
   "metadata": {},
   "outputs": [],
   "source": [
    "dataset_directory = Path('pysaliency_datasets')\n",
    "train_directory = Path('train_deepgaze3')"
   ]
  },
  {
   "cell_type": "code",
   "execution_count": 6,
   "metadata": {},
   "outputs": [
    {
     "name": "stdout",
     "output_type": "stream",
     "text": [
      "Using GPU\n"
     ]
    }
   ],
   "source": [
    "device = torch.device('cuda' if torch.cuda.is_available() else 'cpu')\n",
    "if device.type == 'cuda':\n",
    "    print('Using GPU')"
   ]
  },
  {
   "cell_type": "markdown",
   "metadata": {},
   "source": [
    "# Pretraining on SALICON"
   ]
  },
  {
   "cell_type": "code",
   "execution_count": 7,
   "metadata": {
    "notebookRunGroups": {
     "groupValue": "1"
    }
   },
   "outputs": [
    {
     "name": "stdout",
     "output_type": "stream",
     "text": [
      "Loading SALICON data from pysaliency_datasets...\n",
      "SALICON data loaded.\n",
      "Initializing BaselineModel...\n",
      "BaselineModel initialized.\n",
      "Loaded cached train baseline log likelihood from: pysaliency_datasets/salicon_baseline_train_ll.pkl\n",
      "Loaded cached validation baseline log likelihood from: pysaliency_datasets/salicon_baseline_val_ll.pkl\n",
      "------------------------------\n",
      "Final Train Baseline Log Likelihood: 0.46408017115279737\n",
      "Final Validation Baseline Log Likelihood: 0.4291592320821603\n",
      "------------------------------\n"
     ]
    }
   ],
   "source": [
    "import os\n",
    "import pickle\n",
    "# Assume dataset_directory is defined appropriately, e.g.:\n",
    "# dataset_directory = '/path/to/your/datasets'\n",
    "# Ensure the directory exists or create it if it doesn't\n",
    "# os.makedirs(dataset_directory, exist_ok=True) # Might be needed if dataset_directory is just for caching\n",
    "\n",
    "# --- Load Data ---\n",
    "print(f\"Loading SALICON data from {dataset_directory}...\")\n",
    "SALICON_train_stimuli, SALICON_train_fixations = pysaliency.get_SALICON_train(location=dataset_directory)\n",
    "SALICON_val_stimuli, SALICON_val_fixations = pysaliency.get_SALICON_val(location=dataset_directory)\n",
    "print(\"SALICON data loaded.\")\n",
    "\n",
    "# --- Define Model ---\n",
    "# parameters taken from an early fit for MIT1003. Since SALICON has many more fixations, the bandwidth won't be too small\n",
    "print(\"Initializing BaselineModel...\")\n",
    "SALICON_centerbias = BaselineModel(stimuli=SALICON_train_stimuli, fixations=SALICON_train_fixations, bandwidth=0.0217, eps=2e-13, caching=False)\n",
    "print(\"BaselineModel initialized.\")\n",
    "\n",
    "# --- Define cache file paths ---\n",
    "train_ll_cache_file = os.path.join(dataset_directory, 'salicon_baseline_train_ll.pkl')\n",
    "val_ll_cache_file = os.path.join(dataset_directory, 'salicon_baseline_val_ll.pkl')\n",
    "\n",
    "# --- Compute or Load Train Baseline Log Likelihood ---\n",
    "try:\n",
    "    # Attempt to load from cache\n",
    "    with open(train_ll_cache_file, 'rb') as f:\n",
    "        train_baseline_log_likelihood = pickle.load(f)\n",
    "    print(f\"Loaded cached train baseline log likelihood from: {train_ll_cache_file}\")\n",
    "except (FileNotFoundError, EOFError, pickle.UnpicklingError) as e:\n",
    "    # Compute if cache doesn't exist or is invalid\n",
    "    print(f\"Cache not found or invalid ({e}). Computing train baseline log likelihood...\")\n",
    "    train_baseline_log_likelihood = SALICON_centerbias.information_gain(\n",
    "        SALICON_train_stimuli,\n",
    "        SALICON_train_fixations,\n",
    "        verbose=True,\n",
    "        average='image'\n",
    "    )\n",
    "    print(f\"Computation finished. Train LL = {train_baseline_log_likelihood}\")\n",
    "    # Save the result\n",
    "    try:\n",
    "        os.makedirs(os.path.dirname(train_ll_cache_file), exist_ok=True) # Ensure directory exists\n",
    "        with open(train_ll_cache_file, 'wb') as f:\n",
    "            pickle.dump(train_baseline_log_likelihood, f)\n",
    "        print(f\"Saved train baseline log likelihood to: {train_ll_cache_file}\")\n",
    "    except Exception as save_e:\n",
    "        print(f\"Error saving cache file {train_ll_cache_file}: {save_e}\")\n",
    "\n",
    "\n",
    "# --- Compute or Load Validation Baseline Log Likelihood ---\n",
    "try:\n",
    "    # Attempt to load from cache\n",
    "    with open(val_ll_cache_file, 'rb') as f:\n",
    "        val_baseline_log_likelihood = pickle.load(f)\n",
    "    print(f\"Loaded cached validation baseline log likelihood from: {val_ll_cache_file}\")\n",
    "except (FileNotFoundError, EOFError, pickle.UnpicklingError) as e:\n",
    "    # Compute if cache doesn't exist or is invalid\n",
    "    print(f\"Cache not found or invalid ({e}). Computing validation baseline log likelihood...\")\n",
    "    val_baseline_log_likelihood = SALICON_centerbias.information_gain(\n",
    "        SALICON_val_stimuli,\n",
    "        SALICON_val_fixations,\n",
    "        verbose=True,\n",
    "        average='image'\n",
    "    )\n",
    "    print(f\"Computation finished. Validation LL = {val_baseline_log_likelihood}\")\n",
    "    # Save the result\n",
    "    try:\n",
    "        os.makedirs(os.path.dirname(val_ll_cache_file), exist_ok=True) # Ensure directory exists\n",
    "        with open(val_ll_cache_file, 'wb') as f:\n",
    "            pickle.dump(val_baseline_log_likelihood, f)\n",
    "        print(f\"Saved validation baseline log likelihood to: {val_ll_cache_file}\")\n",
    "    except Exception as save_e:\n",
    "        print(f\"Error saving cache file {val_ll_cache_file}: {save_e}\")\n",
    "\n",
    "\n",
    "# --- Final Output ---\n",
    "print(\"-\" * 30)\n",
    "print(f\"Final Train Baseline Log Likelihood: {train_baseline_log_likelihood}\")\n",
    "print(f\"Final Validation Baseline Log Likelihood: {val_baseline_log_likelihood}\")\n",
    "print(\"-\" * 30)"
   ]
  },
  {
   "cell_type": "code",
   "execution_count": 8,
   "metadata": {},
   "outputs": [
    {
     "name": "stderr",
     "output_type": "stream",
     "text": [
      "Using cache found in /home/mmorello/.cache/torch/hub/pytorch_vision_v0.6.0\n",
      "/home/mmorello/Decoding_Neural_Dynamics_of_Visual_Perceptual_Segmentation/.pixi/envs/default/lib/python3.12/site-packages/torchvision/models/_utils.py:208: UserWarning: The parameter 'pretrained' is deprecated since 0.13 and may be removed in the future, please use 'weights' instead.\n",
      "  warnings.warn(\n",
      "/home/mmorello/Decoding_Neural_Dynamics_of_Visual_Perceptual_Segmentation/.pixi/envs/default/lib/python3.12/site-packages/torchvision/models/_utils.py:223: UserWarning: Arguments other than a weight enum or `None` for 'weights' are deprecated since 0.13 and may be removed in the future. The current behavior is equivalent to passing `weights=DenseNet201_Weights.IMAGENET1K_V1`. You can also use `weights=DenseNet201_Weights.DEFAULT` to get the most up-to-date weights.\n",
      "  warnings.warn(msg)\n"
     ]
    }
   ],
   "source": [
    "model = DeepGazeIII(\n",
    "    features=FeatureExtractor(RGBDenseNet201(), [\n",
    "            '1.features.denseblock4.denselayer32.norm1',\n",
    "            '1.features.denseblock4.denselayer32.conv1',\n",
    "            '1.features.denseblock4.denselayer31.conv2',\n",
    "        ]),\n",
    "    saliency_network=build_saliency_network(2048),\n",
    "    scanpath_network=None,\n",
    "    fixation_selection_network=build_fixation_selection_network(scanpath_features=0),\n",
    "    downsample=1.5,\n",
    "    readout_factor=4,\n",
    "    saliency_map_factor=4,\n",
    "    included_fixations=[],\n",
    ")\n",
    "\n",
    "model = model.to(device)\n",
    "optimizer = torch.optim.Adam(model.parameters(), lr=0.001)\n",
    "lr_scheduler = torch.optim.lr_scheduler.MultiStepLR(optimizer, milestones=[15, 30, 45, 60, 75, 90, 105, 120])"
   ]
  },
  {
   "cell_type": "code",
   "execution_count": 9,
   "metadata": {},
   "outputs": [
    {
     "name": "stdout",
     "output_type": "stream",
     "text": [
      "Valid LMDB found at train_deepgaze3/lmdb_cache/SALICON_train with 10000 items. Skipping generation.\n",
      "Populating fixations cache\n"
     ]
    },
    {
     "name": "stderr",
     "output_type": "stream",
     "text": [
      "100%|█████████▉| 68992354/68992355 [00:45<00:00, 1527942.02it/s]\n"
     ]
    },
    {
     "name": "stdout",
     "output_type": "stream",
     "text": [
      "Valid LMDB found at train_deepgaze3/lmdb_cache/SALICON_val with 5000 items. Skipping generation.\n",
      "Populating fixations cache\n"
     ]
    },
    {
     "name": "stderr",
     "output_type": "stream",
     "text": [
      "100%|█████████▉| 38846997/38846998 [00:24<00:00, 1590809.29it/s]\n"
     ]
    }
   ],
   "source": [
    "train_loader = prepare_spatial_dataset(SALICON_train_stimuli, SALICON_train_fixations, SALICON_centerbias, batch_size=32, path=train_directory / 'lmdb_cache' / 'SALICON_train')\n",
    "validation_loader = prepare_spatial_dataset(SALICON_val_stimuli, SALICON_val_fixations, SALICON_centerbias, batch_size=32, path=train_directory / 'lmdb_cache' / 'SALICON_val')"
   ]
  },
  {
   "cell_type": "code",
   "execution_count": null,
   "metadata": {},
   "outputs": [
    {
     "name": "stdout",
     "output_type": "stream",
     "text": [
      "Using device cuda\n",
      "validation metrics ['IG', 'LL', 'AUC', 'NSS']\n",
      "Found old checkpoint train_deepgaze3/pretraining/step-0013.pth\n",
      "Restoring from train_deepgaze3/pretraining/step-0013.pth\n",
      "Setting step to 13\n",
      "Continuing from step 13\n",
      "    epoch                   timestamp  learning_rate      loss  validation_IG  \\\n",
      "0       0  2025-04-11 02:34:02.322526          0.001       NaN       0.006263   \n",
      "1       1  2025-04-11 02:40:35.007449          0.001 -0.890663       0.342832   \n",
      "2       2  2025-04-11 02:47:00.624549          0.001 -0.925385       0.347606   \n",
      "3       3  2025-04-11 02:53:25.953809          0.001 -0.935251       0.347895   \n",
      "4       4  2025-04-11 02:59:53.322699          0.001 -0.940744       0.341106   \n",
      "5       5  2025-04-11 03:06:21.230717          0.001 -0.945974       0.357141   \n",
      "6       6  2025-04-11 03:12:48.991831          0.001 -0.949205       0.347955   \n",
      "7       7  2025-04-11 03:19:15.283275          0.001 -0.951454       0.356708   \n",
      "8       8  2025-04-11 03:25:43.769879          0.001 -0.954010       0.352889   \n",
      "9       9  2025-04-11 03:32:11.929956          0.001 -0.956100       0.360906   \n",
      "10     10  2025-04-11 03:38:38.988064          0.001 -0.957453       0.359550   \n",
      "11     11  2025-04-11 03:45:05.451219          0.001 -0.958505       0.355765   \n",
      "12     12  2025-04-11 03:51:32.233493          0.001 -0.959499       0.362285   \n",
      "13     13  2025-04-11 03:57:58.876248          0.001 -0.960608       0.365961   \n",
      "\n",
      "    validation_LL  validation_AUC  validation_NSS  \n",
      "0        0.435422        0.710250        0.838693  \n",
      "1        0.771991        0.767196        1.389063  \n",
      "2        0.776765        0.767719        1.424008  \n",
      "3        0.777054        0.767886        1.474129  \n",
      "4        0.770266        0.767955        1.524244  \n",
      "5        0.786300        0.768896        1.493029  \n",
      "6        0.777114        0.768320        1.496323  \n",
      "7        0.785868        0.768926        1.495282  \n",
      "8        0.782048        0.768599        1.514025  \n",
      "9        0.790065        0.769189        1.491116  \n",
      "10       0.788709        0.769150        1.532992  \n",
      "11       0.784924        0.769150        1.530611  \n",
      "12       0.791445        0.769456        1.484897  \n",
      "13       0.795120        0.769521        1.506053  \n"
     ]
    },
    {
     "name": "stderr",
     "output_type": "stream",
     "text": [
      "  0%|          | 0/313 [00:00<?, ?it/s]/home/mmorello/Decoding_Neural_Dynamics_of_Visual_Perceptual_Segmentation/DeepGaze/deepgaze_pytorch/data.py:293: UserWarning: torch.sparse.SparseTensor(indices, values, shape, *, device=) is deprecated.  Please use torch.sparse_coo_tensor(indices, values, shape, dtype=, device=). (Triggered internally at /pytorch/torch/csrc/utils/tensor_new.cpp:644.)\n",
      "  mask = torch.sparse.IntTensor(torch.tensor(inds), torch.tensor(values), shape)\n",
      "-0.96172: 100%|██████████| 313/313 [02:29<00:00,  2.10it/s]\n",
      "LL 0.79163: 100%|██████████| 157/157 [04:06<00:00,  1.57s/it]\n"
     ]
    },
    {
     "name": "stdout",
     "output_type": "stream",
     "text": [
      "    epoch                   timestamp  learning_rate      loss  validation_IG  \\\n",
      "13     13  2025-04-11 03:57:58.876248          0.001 -0.960608       0.365961   \n",
      "14     14  2025-04-11 17:50:48.727639          0.001 -0.961724       0.362471   \n",
      "\n",
      "    validation_LL  validation_AUC  validation_NSS  \n",
      "13        0.79512        0.769521        1.506053  \n",
      "14        0.79163        0.769253        1.488613  \n",
      "validation_IG     13\n",
      "validation_LL     13\n",
      "validation_AUC    13\n",
      "validation_NSS    10\n",
      "dtype: int64\n"
     ]
    },
    {
     "name": "stderr",
     "output_type": "stream",
     "text": [
      "-0.96185: 100%|██████████| 313/313 [02:27<00:00,  2.12it/s]\n",
      "LL 0.78885: 100%|██████████| 157/157 [04:05<00:00,  1.56s/it]\n"
     ]
    },
    {
     "name": "stdout",
     "output_type": "stream",
     "text": [
      "    epoch                   timestamp  learning_rate      loss  validation_IG  \\\n",
      "14     14  2025-04-11 17:50:48.727639          0.001 -0.961724       0.362471   \n",
      "15     15  2025-04-11 17:57:22.490430          0.001 -0.961850       0.359691   \n",
      "\n",
      "    validation_LL  validation_AUC  validation_NSS  \n",
      "14        0.79163        0.769253        1.488613  \n",
      "15        0.78885        0.769353        1.512500  \n",
      "validation_IG     13\n",
      "validation_LL     13\n",
      "validation_AUC    13\n",
      "validation_NSS    10\n",
      "dtype: int64\n",
      "removing train_deepgaze3/pretraining/step-0014.pth\n"
     ]
    },
    {
     "name": "stderr",
     "output_type": "stream",
     "text": [
      "-0.96732: 100%|██████████| 313/313 [02:24<00:00,  2.17it/s]\n",
      "LL 0.79201: 100%|██████████| 157/157 [04:06<00:00,  1.57s/it]\n"
     ]
    },
    {
     "name": "stdout",
     "output_type": "stream",
     "text": [
      "    epoch                   timestamp  learning_rate     loss  validation_IG  \\\n",
      "15     15  2025-04-11 17:57:22.490430         0.0010 -0.96185       0.359691   \n",
      "16     16  2025-04-11 18:03:54.095652         0.0001 -0.96732       0.362849   \n",
      "\n",
      "    validation_LL  validation_AUC  validation_NSS  \n",
      "15       0.788850        0.769353        1.512500  \n",
      "16       0.792008        0.769541        1.521637  \n",
      "validation_IG     13\n",
      "validation_LL     13\n",
      "validation_AUC    16\n",
      "validation_NSS    10\n",
      "dtype: int64\n",
      "removing train_deepgaze3/pretraining/step-0015.pth\n"
     ]
    },
    {
     "name": "stderr",
     "output_type": "stream",
     "text": [
      "-0.96834: 100%|██████████| 313/313 [02:26<00:00,  2.14it/s]\n",
      "LL 0.79198: 100%|██████████| 157/157 [04:07<00:00,  1.58s/it]\n"
     ]
    },
    {
     "name": "stdout",
     "output_type": "stream",
     "text": [
      "    epoch                   timestamp  learning_rate      loss  validation_IG  \\\n",
      "16     16  2025-04-11 18:03:54.095652         0.0001 -0.967320       0.362849   \n",
      "17     17  2025-04-11 18:10:29.177884         0.0001 -0.968336       0.362816   \n",
      "\n",
      "    validation_LL  validation_AUC  validation_NSS  \n",
      "16       0.792008        0.769541        1.521637  \n",
      "17       0.791976        0.769509        1.527234  \n",
      "validation_IG     13\n",
      "validation_LL     13\n",
      "validation_AUC    16\n",
      "validation_NSS    10\n",
      "dtype: int64\n",
      "removing train_deepgaze3/pretraining/step-0016.pth\n"
     ]
    },
    {
     "name": "stderr",
     "output_type": "stream",
     "text": [
      "-0.96859: 100%|██████████| 313/313 [02:25<00:00,  2.15it/s]\n",
      "LL 0.79225: 100%|██████████| 157/157 [04:08<00:00,  1.58s/it]\n"
     ]
    },
    {
     "name": "stdout",
     "output_type": "stream",
     "text": [
      "    epoch                   timestamp  learning_rate      loss  validation_IG  \\\n",
      "17     17  2025-04-11 18:10:29.177884         0.0001 -0.968336       0.362816   \n",
      "18     18  2025-04-11 18:17:03.771528         0.0001 -0.968585       0.363092   \n",
      "\n",
      "    validation_LL  validation_AUC  validation_NSS  \n",
      "17       0.791976        0.769509        1.527234  \n",
      "18       0.792251        0.769639        1.531810  \n",
      "validation_IG     13\n",
      "validation_LL     13\n",
      "validation_AUC    18\n",
      "validation_NSS    10\n",
      "dtype: int64\n",
      "removing train_deepgaze3/pretraining/step-0017.pth\n"
     ]
    },
    {
     "name": "stderr",
     "output_type": "stream",
     "text": [
      "-0.96871: 100%|██████████| 313/313 [02:25<00:00,  2.15it/s]\n",
      "LL 0.79030: 100%|██████████| 157/157 [04:07<00:00,  1.57s/it]\n"
     ]
    },
    {
     "name": "stdout",
     "output_type": "stream",
     "text": [
      "    epoch                   timestamp  learning_rate      loss  validation_IG  \\\n",
      "18     18  2025-04-11 18:17:03.771528         0.0001 -0.968585       0.363092   \n",
      "19     19  2025-04-11 18:23:37.024975         0.0001 -0.968709       0.361139   \n",
      "\n",
      "    validation_LL  validation_AUC  validation_NSS  \n",
      "18       0.792251        0.769639        1.531810  \n",
      "19       0.790298        0.769576        1.530436  \n",
      "validation_IG     13\n",
      "validation_LL     13\n",
      "validation_AUC    18\n",
      "validation_NSS    10\n",
      "dtype: int64\n",
      "removing train_deepgaze3/pretraining/step-0018.pth\n"
     ]
    },
    {
     "name": "stderr",
     "output_type": "stream",
     "text": [
      "-0.96889: 100%|██████████| 313/313 [02:27<00:00,  2.13it/s]\n",
      "LL 0.79198: 100%|██████████| 157/157 [04:06<00:00,  1.57s/it]\n"
     ]
    },
    {
     "name": "stdout",
     "output_type": "stream",
     "text": [
      "    epoch                   timestamp  learning_rate      loss  validation_IG  \\\n",
      "19     19  2025-04-11 18:23:37.024975         0.0001 -0.968709       0.361139   \n",
      "20     20  2025-04-11 18:30:11.705705         0.0001 -0.968887       0.362823   \n",
      "\n",
      "    validation_LL  validation_AUC  validation_NSS  \n",
      "19       0.790298        0.769576        1.530436  \n",
      "20       0.791983        0.769503        1.523016  \n",
      "validation_IG     13\n",
      "validation_LL     13\n",
      "validation_AUC    18\n",
      "validation_NSS    10\n",
      "dtype: int64\n",
      "removing train_deepgaze3/pretraining/step-0019.pth\n"
     ]
    },
    {
     "name": "stderr",
     "output_type": "stream",
     "text": [
      "-0.96894: 100%|██████████| 313/313 [02:26<00:00,  2.14it/s]\n",
      "LL 0.79097: 100%|██████████| 157/157 [04:08<00:00,  1.58s/it]\n"
     ]
    },
    {
     "name": "stdout",
     "output_type": "stream",
     "text": [
      "    epoch                   timestamp  learning_rate      loss  validation_IG  \\\n",
      "20     20  2025-04-11 18:30:11.705705         0.0001 -0.968887       0.362823   \n",
      "21     21  2025-04-11 18:36:47.504161         0.0001 -0.968940       0.361812   \n",
      "\n",
      "    validation_LL  validation_AUC  validation_NSS  \n",
      "20       0.791983        0.769503        1.523016  \n",
      "21       0.790971        0.769561        1.525275  \n",
      "validation_IG     13\n",
      "validation_LL     13\n",
      "validation_AUC    18\n",
      "validation_NSS    10\n",
      "dtype: int64\n",
      "removing train_deepgaze3/pretraining/step-0020.pth\n"
     ]
    },
    {
     "name": "stderr",
     "output_type": "stream",
     "text": [
      "-0.96905: 100%|██████████| 313/313 [02:25<00:00,  2.15it/s]\n",
      "LL 0.79158: 100%|██████████| 157/157 [04:06<00:00,  1.57s/it]\n"
     ]
    },
    {
     "name": "stdout",
     "output_type": "stream",
     "text": [
      "    epoch                   timestamp  learning_rate      loss  validation_IG  \\\n",
      "21     21  2025-04-11 18:36:47.504161         0.0001 -0.968940       0.361812   \n",
      "22     22  2025-04-11 18:43:20.463037         0.0001 -0.969054       0.362425   \n",
      "\n",
      "    validation_LL  validation_AUC  validation_NSS  \n",
      "21       0.790971        0.769561        1.525275  \n",
      "22       0.791584        0.769655        1.530648  \n",
      "validation_IG     13\n",
      "validation_LL     13\n",
      "validation_AUC    22\n",
      "validation_NSS    10\n",
      "dtype: int64\n",
      "removing train_deepgaze3/pretraining/step-0021.pth\n"
     ]
    },
    {
     "name": "stderr",
     "output_type": "stream",
     "text": [
      "-0.96921: 100%|██████████| 313/313 [02:26<00:00,  2.13it/s]\n",
      "LL 0.79170: 100%|██████████| 157/157 [04:08<00:00,  1.58s/it]\n"
     ]
    },
    {
     "name": "stdout",
     "output_type": "stream",
     "text": [
      "    epoch                   timestamp  learning_rate      loss  validation_IG  \\\n",
      "22     22  2025-04-11 18:43:20.463037         0.0001 -0.969054       0.362425   \n",
      "23     23  2025-04-11 18:49:56.019169         0.0001 -0.969210       0.362544   \n",
      "\n",
      "    validation_LL  validation_AUC  validation_NSS  \n",
      "22       0.791584        0.769655        1.530648  \n",
      "23       0.791703        0.769597        1.527686  \n",
      "validation_IG     13\n",
      "validation_LL     13\n",
      "validation_AUC    22\n",
      "validation_NSS    10\n",
      "dtype: int64\n",
      "removing train_deepgaze3/pretraining/step-0022.pth\n"
     ]
    },
    {
     "name": "stderr",
     "output_type": "stream",
     "text": [
      "-0.96934: 100%|██████████| 313/313 [02:27<00:00,  2.12it/s]\n",
      "LL 0.79215: 100%|██████████| 157/157 [04:10<00:00,  1.59s/it]\n"
     ]
    },
    {
     "name": "stdout",
     "output_type": "stream",
     "text": [
      "    epoch                   timestamp  learning_rate      loss  validation_IG  \\\n",
      "23     23  2025-04-11 18:49:56.019169         0.0001 -0.969210       0.362544   \n",
      "24     24  2025-04-11 18:56:34.344944         0.0001 -0.969336       0.362989   \n",
      "\n",
      "    validation_LL  validation_AUC  validation_NSS  \n",
      "23       0.791703        0.769597        1.527686  \n",
      "24       0.792148        0.769613        1.529305  \n",
      "validation_IG     13\n",
      "validation_LL     13\n",
      "validation_AUC    22\n",
      "validation_NSS    10\n",
      "dtype: int64\n",
      "removing train_deepgaze3/pretraining/step-0023.pth\n"
     ]
    },
    {
     "name": "stderr",
     "output_type": "stream",
     "text": [
      "-0.96939: 100%|██████████| 313/313 [02:27<00:00,  2.13it/s]\n",
      "LL 0.79052: 100%|██████████| 157/157 [04:08<00:00,  1.58s/it]\n"
     ]
    },
    {
     "name": "stdout",
     "output_type": "stream",
     "text": [
      "    epoch                   timestamp  learning_rate      loss  validation_IG  \\\n",
      "24     24  2025-04-11 18:56:34.344944         0.0001 -0.969336       0.362989   \n",
      "25     25  2025-04-11 19:03:10.693880         0.0001 -0.969386       0.361363   \n",
      "\n",
      "    validation_LL  validation_AUC  validation_NSS  \n",
      "24       0.792148        0.769613        1.529305  \n",
      "25       0.790522        0.769560        1.533791  \n",
      "validation_IG     13\n",
      "validation_LL     13\n",
      "validation_AUC    22\n",
      "validation_NSS    25\n",
      "dtype: int64\n",
      "removing train_deepgaze3/pretraining/step-0024.pth\n"
     ]
    },
    {
     "name": "stderr",
     "output_type": "stream",
     "text": [
      "-0.96947: 100%|██████████| 313/313 [02:27<00:00,  2.12it/s]\n",
      "LL 0.79044: 100%|██████████| 157/157 [04:07<00:00,  1.58s/it]\n"
     ]
    },
    {
     "name": "stdout",
     "output_type": "stream",
     "text": [
      "    epoch                   timestamp  learning_rate      loss  validation_IG  \\\n",
      "25     25  2025-04-11 19:03:10.693880         0.0001 -0.969386       0.361363   \n",
      "26     26  2025-04-11 19:09:46.329325         0.0001 -0.969465       0.361281   \n",
      "\n",
      "    validation_LL  validation_AUC  validation_NSS  \n",
      "25       0.790522        0.769560        1.533791  \n",
      "26       0.790440        0.769632        1.524122  \n",
      "validation_IG     13\n",
      "validation_LL     13\n",
      "validation_AUC    22\n",
      "validation_NSS    25\n",
      "dtype: int64\n",
      "removing train_deepgaze3/pretraining/step-0025.pth\n"
     ]
    },
    {
     "name": "stderr",
     "output_type": "stream",
     "text": [
      "-0.96960: 100%|██████████| 313/313 [02:29<00:00,  2.10it/s]\n",
      "LL 0.79330: 100%|██████████| 157/157 [04:07<00:00,  1.58s/it]\n"
     ]
    },
    {
     "name": "stdout",
     "output_type": "stream",
     "text": [
      "    epoch                   timestamp  learning_rate      loss  validation_IG  \\\n",
      "26     26  2025-04-11 19:09:46.329325         0.0001 -0.969465       0.361281   \n",
      "27     27  2025-04-11 19:16:23.491679         0.0001 -0.969600       0.364141   \n",
      "\n",
      "    validation_LL  validation_AUC  validation_NSS  \n",
      "26        0.79044        0.769632        1.524122  \n",
      "27        0.79330        0.769687        1.517840  \n",
      "validation_IG     13\n",
      "validation_LL     13\n",
      "validation_AUC    27\n",
      "validation_NSS    25\n",
      "dtype: int64\n",
      "removing train_deepgaze3/pretraining/step-0026.pth\n"
     ]
    },
    {
     "name": "stderr",
     "output_type": "stream",
     "text": [
      "-0.96968: 100%|██████████| 313/313 [02:27<00:00,  2.12it/s]\n",
      "LL 0.79249: 100%|██████████| 157/157 [04:07<00:00,  1.58s/it]\n"
     ]
    },
    {
     "name": "stdout",
     "output_type": "stream",
     "text": [
      "    epoch                   timestamp  learning_rate      loss  validation_IG  \\\n",
      "27     27  2025-04-11 19:16:23.491679         0.0001 -0.969600       0.364141   \n",
      "28     28  2025-04-11 19:22:59.416409         0.0001 -0.969684       0.363335   \n",
      "\n",
      "    validation_LL  validation_AUC  validation_NSS  \n",
      "27       0.793300        0.769687        1.517840  \n",
      "28       0.792494        0.769711        1.521255  \n",
      "validation_IG     13\n",
      "validation_LL     13\n",
      "validation_AUC    28\n",
      "validation_NSS    25\n",
      "dtype: int64\n",
      "removing train_deepgaze3/pretraining/step-0027.pth\n"
     ]
    },
    {
     "name": "stderr",
     "output_type": "stream",
     "text": [
      "-0.96975: 100%|██████████| 313/313 [02:24<00:00,  2.16it/s]\n",
      "LL 0.78964: 100%|██████████| 157/157 [04:03<00:00,  1.55s/it]\n"
     ]
    },
    {
     "name": "stdout",
     "output_type": "stream",
     "text": [
      "    epoch                   timestamp  learning_rate      loss  validation_IG  \\\n",
      "28     28  2025-04-11 19:22:59.416409         0.0001 -0.969684       0.363335   \n",
      "29     29  2025-04-11 19:29:28.593544         0.0001 -0.969753       0.360484   \n",
      "\n",
      "    validation_LL  validation_AUC  validation_NSS  \n",
      "28       0.792494        0.769711        1.521255  \n",
      "29       0.789643        0.769538        1.534606  \n",
      "validation_IG     13\n",
      "validation_LL     13\n",
      "validation_AUC    28\n",
      "validation_NSS    29\n",
      "dtype: int64\n",
      "removing train_deepgaze3/pretraining/step-0028.pth\n"
     ]
    },
    {
     "name": "stderr",
     "output_type": "stream",
     "text": [
      "-0.96984: 100%|██████████| 313/313 [02:26<00:00,  2.14it/s]\n",
      "LL 0.79269: 100%|██████████| 157/157 [04:03<00:00,  1.55s/it]\n"
     ]
    },
    {
     "name": "stdout",
     "output_type": "stream",
     "text": [
      "    epoch                   timestamp  learning_rate      loss  validation_IG  \\\n",
      "29     29  2025-04-11 19:29:28.593544         0.0001 -0.969753       0.360484   \n",
      "30     30  2025-04-11 19:35:59.781376         0.0001 -0.969838       0.363535   \n",
      "\n",
      "    validation_LL  validation_AUC  validation_NSS  \n",
      "29       0.789643        0.769538        1.534606  \n",
      "30       0.792694        0.769566        1.528520  \n",
      "validation_IG     13\n",
      "validation_LL     13\n",
      "validation_AUC    28\n",
      "validation_NSS    29\n",
      "dtype: int64\n",
      "removing train_deepgaze3/pretraining/step-0029.pth\n"
     ]
    },
    {
     "name": "stderr",
     "output_type": "stream",
     "text": [
      "-0.97063: 100%|██████████| 313/313 [02:24<00:00,  2.16it/s]\n",
      "LL 0.79176: 100%|██████████| 157/157 [04:03<00:00,  1.55s/it]\n"
     ]
    },
    {
     "name": "stdout",
     "output_type": "stream",
     "text": [
      "    epoch                   timestamp  learning_rate      loss  validation_IG  \\\n",
      "30     30  2025-04-11 19:35:59.781376        0.00010 -0.969838       0.363535   \n",
      "31     31  2025-04-11 19:42:28.936428        0.00001 -0.970632       0.362601   \n",
      "\n",
      "    validation_LL  validation_AUC  validation_NSS  \n",
      "30       0.792694        0.769566        1.528520  \n",
      "31       0.791760        0.769585        1.526607  \n",
      "validation_IG     13\n",
      "validation_LL     13\n",
      "validation_AUC    28\n",
      "validation_NSS    29\n",
      "dtype: int64\n",
      "removing train_deepgaze3/pretraining/step-0030.pth\n"
     ]
    },
    {
     "name": "stderr",
     "output_type": "stream",
     "text": [
      "-0.97074: 100%|██████████| 313/313 [02:24<00:00,  2.17it/s]\n",
      "LL 0.79193: 100%|██████████| 157/157 [04:02<00:00,  1.54s/it]\n"
     ]
    },
    {
     "name": "stdout",
     "output_type": "stream",
     "text": [
      "    epoch                   timestamp  learning_rate      loss  validation_IG  \\\n",
      "31     31  2025-04-11 19:42:28.936428        0.00001 -0.970632       0.362601   \n",
      "32     32  2025-04-11 19:48:55.896010        0.00001 -0.970739       0.362766   \n",
      "\n",
      "    validation_LL  validation_AUC  validation_NSS  \n",
      "31       0.791760        0.769585        1.526607  \n",
      "32       0.791925        0.769618        1.526016  \n",
      "validation_IG     13\n",
      "validation_LL     13\n",
      "validation_AUC    28\n",
      "validation_NSS    29\n",
      "dtype: int64\n",
      "removing train_deepgaze3/pretraining/step-0031.pth\n"
     ]
    },
    {
     "name": "stderr",
     "output_type": "stream",
     "text": [
      "-0.97076: 100%|██████████| 313/313 [02:25<00:00,  2.16it/s]\n",
      "LL 0.79314: 100%|██████████| 157/157 [04:02<00:00,  1.54s/it]\n"
     ]
    },
    {
     "name": "stdout",
     "output_type": "stream",
     "text": [
      "    epoch                   timestamp  learning_rate      loss  validation_IG  \\\n",
      "32     32  2025-04-11 19:48:55.896010        0.00001 -0.970739       0.362766   \n",
      "33     33  2025-04-11 19:55:24.394128        0.00001 -0.970763       0.363981   \n",
      "\n",
      "    validation_LL  validation_AUC  validation_NSS  \n",
      "32       0.791925        0.769618        1.526016  \n",
      "33       0.793140        0.769641        1.520833  \n",
      "validation_IG     13\n",
      "validation_LL     13\n",
      "validation_AUC    28\n",
      "validation_NSS    29\n",
      "dtype: int64\n",
      "removing train_deepgaze3/pretraining/step-0032.pth\n"
     ]
    },
    {
     "name": "stderr",
     "output_type": "stream",
     "text": [
      "-0.97077: 100%|██████████| 313/313 [02:24<00:00,  2.17it/s]\n",
      "LL 0.79242: 100%|██████████| 157/157 [04:03<00:00,  1.55s/it]\n"
     ]
    },
    {
     "name": "stdout",
     "output_type": "stream",
     "text": [
      "    epoch                   timestamp  learning_rate      loss  validation_IG  \\\n",
      "33     33  2025-04-11 19:55:24.394128        0.00001 -0.970763       0.363981   \n",
      "34     34  2025-04-11 20:01:53.080133        0.00001 -0.970773       0.363260   \n",
      "\n",
      "    validation_LL  validation_AUC  validation_NSS  \n",
      "33        0.79314        0.769641        1.520833  \n",
      "34        0.79242        0.769619        1.522817  \n",
      "validation_IG     13\n",
      "validation_LL     13\n",
      "validation_AUC    28\n",
      "validation_NSS    29\n",
      "dtype: int64\n",
      "removing train_deepgaze3/pretraining/step-0033.pth\n"
     ]
    },
    {
     "name": "stderr",
     "output_type": "stream",
     "text": [
      "-0.97079: 100%|██████████| 313/313 [02:24<00:00,  2.16it/s]\n",
      "LL 0.79187: 100%|██████████| 157/157 [04:04<00:00,  1.56s/it]\n"
     ]
    },
    {
     "name": "stdout",
     "output_type": "stream",
     "text": [
      "    epoch                   timestamp  learning_rate      loss  validation_IG  \\\n",
      "34     34  2025-04-11 20:01:53.080133        0.00001 -0.970773       0.363260   \n",
      "35     35  2025-04-11 20:08:23.324112        0.00001 -0.970792       0.362715   \n",
      "\n",
      "    validation_LL  validation_AUC  validation_NSS  \n",
      "34       0.792420        0.769619        1.522817  \n",
      "35       0.791874        0.769643        1.529418  \n",
      "validation_IG     13\n",
      "validation_LL     13\n",
      "validation_AUC    28\n",
      "validation_NSS    29\n",
      "dtype: int64\n",
      "removing train_deepgaze3/pretraining/step-0034.pth\n"
     ]
    },
    {
     "name": "stderr",
     "output_type": "stream",
     "text": [
      "-0.97080: 100%|██████████| 313/313 [02:25<00:00,  2.14it/s]\n",
      "LL 0.79192: 100%|██████████| 157/157 [04:03<00:00,  1.55s/it]\n"
     ]
    },
    {
     "name": "stdout",
     "output_type": "stream",
     "text": [
      "    epoch                   timestamp  learning_rate      loss  validation_IG  \\\n",
      "35     35  2025-04-11 20:08:23.324112        0.00001 -0.970792       0.362715   \n",
      "36     36  2025-04-11 20:14:53.453881        0.00001 -0.970803       0.362763   \n",
      "\n",
      "    validation_LL  validation_AUC  validation_NSS  \n",
      "35       0.791874        0.769643        1.529418  \n",
      "36       0.791922        0.769612        1.527990  \n",
      "validation_IG     13\n",
      "validation_LL     13\n",
      "validation_AUC    28\n",
      "validation_NSS    29\n",
      "dtype: int64\n",
      "removing train_deepgaze3/pretraining/step-0035.pth\n"
     ]
    },
    {
     "name": "stderr",
     "output_type": "stream",
     "text": [
      "-0.97081: 100%|██████████| 313/313 [02:24<00:00,  2.17it/s]\n",
      "LL 0.79220: 100%|██████████| 157/157 [04:03<00:00,  1.55s/it]\n"
     ]
    },
    {
     "name": "stdout",
     "output_type": "stream",
     "text": [
      "    epoch                   timestamp  learning_rate      loss  validation_IG  \\\n",
      "36     36  2025-04-11 20:14:53.453881        0.00001 -0.970803       0.362763   \n",
      "37     37  2025-04-11 20:21:22.199116        0.00001 -0.970814       0.363039   \n",
      "\n",
      "    validation_LL  validation_AUC  validation_NSS  \n",
      "36       0.791922        0.769612        1.527990  \n",
      "37       0.792198        0.769657        1.527284  \n",
      "validation_IG     13\n",
      "validation_LL     13\n",
      "validation_AUC    28\n",
      "validation_NSS    29\n",
      "dtype: int64\n",
      "removing train_deepgaze3/pretraining/step-0036.pth\n"
     ]
    },
    {
     "name": "stderr",
     "output_type": "stream",
     "text": [
      "-0.97082: 100%|██████████| 313/313 [02:25<00:00,  2.15it/s]\n",
      "LL 0.79203: 100%|██████████| 157/157 [04:02<00:00,  1.55s/it]\n"
     ]
    },
    {
     "name": "stdout",
     "output_type": "stream",
     "text": [
      "    epoch                   timestamp  learning_rate      loss  validation_IG  \\\n",
      "37     37  2025-04-11 20:21:22.199116        0.00001 -0.970814       0.363039   \n",
      "38     38  2025-04-11 20:27:51.283426        0.00001 -0.970820       0.362870   \n",
      "\n",
      "    validation_LL  validation_AUC  validation_NSS  \n",
      "37       0.792198        0.769657        1.527284  \n",
      "38       0.792030        0.769637        1.527977  \n",
      "validation_IG     13\n",
      "validation_LL     13\n",
      "validation_AUC    28\n",
      "validation_NSS    29\n",
      "dtype: int64\n",
      "removing train_deepgaze3/pretraining/step-0037.pth\n"
     ]
    },
    {
     "name": "stderr",
     "output_type": "stream",
     "text": [
      "-0.97083: 100%|██████████| 313/313 [02:24<00:00,  2.16it/s]\n",
      "LL 0.79161: 100%|██████████| 157/157 [04:03<00:00,  1.55s/it]\n"
     ]
    },
    {
     "name": "stdout",
     "output_type": "stream",
     "text": [
      "    epoch                   timestamp  learning_rate      loss  validation_IG  \\\n",
      "38     38  2025-04-11 20:27:51.283426        0.00001 -0.970820       0.362870   \n",
      "39     39  2025-04-11 20:34:20.504102        0.00001 -0.970828       0.362451   \n",
      "\n",
      "    validation_LL  validation_AUC  validation_NSS  \n",
      "38        0.79203        0.769637        1.527977  \n",
      "39        0.79161        0.769616        1.529185  \n",
      "validation_IG     13\n",
      "validation_LL     13\n",
      "validation_AUC    28\n",
      "validation_NSS    29\n",
      "dtype: int64\n",
      "removing train_deepgaze3/pretraining/step-0038.pth\n"
     ]
    },
    {
     "name": "stderr",
     "output_type": "stream",
     "text": [
      "-0.97084: 100%|██████████| 313/313 [02:25<00:00,  2.16it/s]\n",
      "LL 0.79227: 100%|██████████| 157/157 [04:04<00:00,  1.56s/it]\n"
     ]
    },
    {
     "name": "stdout",
     "output_type": "stream",
     "text": [
      "    epoch                   timestamp  learning_rate      loss  validation_IG  \\\n",
      "39     39  2025-04-11 20:34:20.504102        0.00001 -0.970828       0.362451   \n",
      "40     40  2025-04-11 20:40:50.807925        0.00001 -0.970839       0.363109   \n",
      "\n",
      "    validation_LL  validation_AUC  validation_NSS  \n",
      "39       0.791610        0.769616        1.529185  \n",
      "40       0.792268        0.769642        1.527596  \n",
      "validation_IG     13\n",
      "validation_LL     13\n",
      "validation_AUC    28\n",
      "validation_NSS    29\n",
      "dtype: int64\n",
      "removing train_deepgaze3/pretraining/step-0039.pth\n"
     ]
    },
    {
     "name": "stderr",
     "output_type": "stream",
     "text": [
      "-0.97085: 100%|██████████| 313/313 [02:25<00:00,  2.15it/s]\n",
      "LL 0.79235: 100%|██████████| 157/157 [04:02<00:00,  1.55s/it]\n"
     ]
    },
    {
     "name": "stdout",
     "output_type": "stream",
     "text": [
      "    epoch                   timestamp  learning_rate      loss  validation_IG  \\\n",
      "40     40  2025-04-11 20:40:50.807925        0.00001 -0.970839       0.363109   \n",
      "41     41  2025-04-11 20:47:20.315317        0.00001 -0.970850       0.363191   \n",
      "\n",
      "    validation_LL  validation_AUC  validation_NSS  \n",
      "40       0.792268        0.769642        1.527596  \n",
      "41       0.792350        0.769648        1.524828  \n",
      "validation_IG     13\n",
      "validation_LL     13\n",
      "validation_AUC    28\n",
      "validation_NSS    29\n",
      "dtype: int64\n",
      "removing train_deepgaze3/pretraining/step-0040.pth\n"
     ]
    },
    {
     "name": "stderr",
     "output_type": "stream",
     "text": [
      "-0.97086: 100%|██████████| 313/313 [02:24<00:00,  2.16it/s]\n",
      "LL 0.78712:  14%|█▍        | 22/157 [00:33<03:32,  1.57s/it]"
     ]
    }
   ],
   "source": [
    "_train(train_directory / 'pretraining',\n",
    "    model,\n",
    "    train_loader, train_baseline_log_likelihood,\n",
    "    validation_loader, val_baseline_log_likelihood,\n",
    "    optimizer, lr_scheduler,\n",
    "    minimum_learning_rate=1e-7,\n",
    "    device=device,\n",
    ") \n"
   ]
  },
  {
   "cell_type": "markdown",
   "metadata": {},
   "source": [
    "# Preparing the MIT1003 dataset"
   ]
  },
  {
   "cell_type": "code",
   "execution_count": null,
   "metadata": {},
   "outputs": [],
   "source": [
    "mit_stimuli_orig, mit_scanpaths_orig = pysaliency.external_datasets.mit.get_mit1003_with_initial_fixation(location=dataset_directory, replace_initial_invalid_fixations=True)"
   ]
  },
  {
   "cell_type": "code",
   "execution_count": null,
   "metadata": {},
   "outputs": [
    {
     "name": "stderr",
     "output_type": "stream",
     "text": [
      "  0%|          | 0/15045 [00:00<?, ?it/s]"
     ]
    },
    {
     "name": "stderr",
     "output_type": "stream",
     "text": [
      "100%|██████████| 15045/15045 [00:00<00:00, 172014.85it/s]\n",
      "/tmp/ipykernel_822328/2048604840.py:54: UserWarning: don't use attributes for FixationTrains, use scanpath_attributes or scanpath_fixation_attributes instead!\n",
      "  new_fixations = pysaliency.FixationTrains(\n",
      "100%|██████████| 1003/1003 [00:17<00:00, 57.52it/s]\n"
     ]
    }
   ],
   "source": [
    "def convert_stimulus(input_image):\n",
    "    size = input_image.shape[0], input_image.shape[1]\n",
    "    if size[0] < size[1]:\n",
    "        new_size = 768, 1024\n",
    "    else:\n",
    "        new_size = 1024,768\n",
    "    \n",
    "    # pillow uses width, height\n",
    "    new_size = tuple(list(new_size)[::-1])\n",
    "    \n",
    "    new_stimulus = np.array(Image.fromarray(input_image).resize(new_size, Image.BILINEAR))\n",
    "    return new_stimulus\n",
    "\n",
    "def convert_fixations(stimuli, fixations):\n",
    "    new_fixations = fixations.copy()\n",
    "    for n in tqdm(list(range(len(stimuli)))):\n",
    "        stimulus = stimuli.stimuli[n]\n",
    "        size = stimulus.shape[0], stimulus.shape[1]\n",
    "        if size[0] < size[1]:\n",
    "            new_size = 768, 1024\n",
    "        else:\n",
    "            new_size = 1024,768\n",
    "        x_factor = new_size[1] / size[1]\n",
    "        y_factor = new_size[0] / size[0]\n",
    "        \n",
    "        inds = new_fixations.n == n\n",
    "        new_fixations.x[inds] *= x_factor\n",
    "        new_fixations.y[inds] *= y_factor\n",
    "        new_fixations.x_hist[inds] *= x_factor\n",
    "        new_fixations.y_hist[inds] *= y_factor\n",
    "    \n",
    "    return new_fixations\n",
    "\n",
    "def convert_fixation_trains(stimuli, fixations):\n",
    "    train_xs = fixations.train_xs.copy()\n",
    "    train_ys = fixations.train_ys.copy()\n",
    "    \n",
    "    for i in tqdm(range(len(train_xs))):\n",
    "        n = fixations.train_ns[i]\n",
    "        \n",
    "        size = stimuli.shapes[n][0], stimuli.shapes[n][1]\n",
    "        \n",
    "        if size[0] < size[1]:\n",
    "            new_size = 768, 1024\n",
    "        else:\n",
    "            new_size = 1024,768\n",
    "        \n",
    "        x_factor = new_size[1] / size[1]\n",
    "        y_factor = new_size[0] / size[0]\n",
    "        \n",
    "        train_xs[i] *= x_factor\n",
    "        train_ys[i] *= y_factor\n",
    "        \n",
    "    new_fixations = pysaliency.FixationTrains(\n",
    "        train_xs = train_xs,\n",
    "        train_ys = train_ys,\n",
    "        train_ts = fixations.train_ts.copy(),\n",
    "        train_ns = fixations.train_ns.copy(),\n",
    "        train_subjects = fixations.train_subjects.copy(),\n",
    "        attributes={key: getattr(fixations, key).copy() for key in fixations.__attributes__ if key not in ['subjects', 'scanpath_index']},\n",
    "    )\n",
    "    return new_fixations\n",
    "\n",
    "\n",
    "\n",
    "def convert_stimuli(stimuli, new_location: Path):\n",
    "    assert isinstance(stimuli, pysaliency.FileStimuli)\n",
    "    new_stimuli_location = new_location / 'stimuli'\n",
    "    new_stimuli_location.mkdir(parents=True, exist_ok=True)\n",
    "    new_filenames = []\n",
    "    for filename in tqdm(stimuli.filenames):\n",
    "        stimulus = imread(filename)\n",
    "        new_stimulus = convert_stimulus(stimulus)\n",
    "        \n",
    "        basename = os.path.basename(filename)\n",
    "        new_filename = new_stimuli_location / basename\n",
    "        if new_stimulus.size != stimulus.size:\n",
    "            imwrite(new_filename, new_stimulus)\n",
    "        else:\n",
    "            #print(\"Keeping\")\n",
    "            shutil.copy(filename, new_filename)\n",
    "        new_filenames.append(new_filename)\n",
    "    return pysaliency.FileStimuli(new_filenames)\n",
    "\n",
    "mit_scanpaths_twosize = convert_fixation_trains(mit_stimuli_orig, mit_scanpaths_orig)\n",
    "mit_stimuli_twosize = convert_stimuli(mit_stimuli_orig, train_directory / 'MIT1003_twosize')"
   ]
  },
  {
   "cell_type": "code",
   "execution_count": null,
   "metadata": {},
   "outputs": [],
   "source": [
    "# remove the initial forced fixation from the training data, it's only used for conditioning\n",
    "mit_fixations_twosize = mit_scanpaths_twosize[mit_scanpaths_twosize.lengths > 0]"
   ]
  },
  {
   "cell_type": "code",
   "execution_count": null,
   "metadata": {},
   "outputs": [],
   "source": [
    "# parameters optimized on MIT1003 for maximum leave-one-image-out crossvalidation log-likelihood\n",
    "MIT1003_centerbias = CrossvalidatedBaselineModel(\n",
    "    mit_stimuli_twosize,\n",
    "    mit_fixations_twosize,\n",
    "    bandwidth=10**-1.6667673342543432,\n",
    "    eps=10**-14.884189168516073,\n",
    "    caching=False,\n",
    ")"
   ]
  },
  {
   "cell_type": "code",
   "execution_count": null,
   "metadata": {},
   "outputs": [
    {
     "name": "stdout",
     "output_type": "stream",
     "text": [
      "Using random shuffles for crossvalidation\n",
      "Using random shuffles for crossvalidation\n"
     ]
    },
    {
     "name": "stderr",
     "output_type": "stream",
     "text": [
      "100%|██████████| 808/808 [02:27<00:00,  5.49it/s]\n",
      "100%|██████████| 94/94 [00:16<00:00,  5.84it/s]\n",
      "Using cache found in /home/mmorello/.cache/torch/hub/pytorch_vision_v0.6.0\n",
      "/home/mmorello/Decoding_Neural_Dynamics_of_Visual_Perceptual_Segmentation/.pixi/envs/default/lib/python3.12/site-packages/torchvision/models/_utils.py:208: UserWarning: The parameter 'pretrained' is deprecated since 0.13 and may be removed in the future, please use 'weights' instead.\n",
      "  warnings.warn(\n",
      "/home/mmorello/Decoding_Neural_Dynamics_of_Visual_Perceptual_Segmentation/.pixi/envs/default/lib/python3.12/site-packages/torchvision/models/_utils.py:223: UserWarning: Arguments other than a weight enum or `None` for 'weights' are deprecated since 0.13 and may be removed in the future. The current behavior is equivalent to passing `weights=DenseNet201_Weights.IMAGENET1K_V1`. You can also use `weights=DenseNet201_Weights.DEFAULT` to get the most up-to-date weights.\n",
      "  warnings.warn(msg)\n"
     ]
    },
    {
     "name": "stdout",
     "output_type": "stream",
     "text": [
      "Generate LMDB to train_deepgaze3/lmdb_cache/MIT1003_train_spatial_0\n"
     ]
    },
    {
     "name": "stderr",
     "output_type": "stream",
     "text": [
      "100%|██████████| 808/808 [03:04<00:00,  4.39it/s]\n"
     ]
    },
    {
     "name": "stdout",
     "output_type": "stream",
     "text": [
      "Flushing database ...\n",
      "Populating fixations cache\n"
     ]
    },
    {
     "name": "stderr",
     "output_type": "stream",
     "text": [
      "100%|█████████▉| 83717/83718 [00:00<00:00, 819458.17it/s]\n"
     ]
    },
    {
     "name": "stdout",
     "output_type": "stream",
     "text": [
      "Generate LMDB to train_deepgaze3/lmdb_cache/MIT1003_val_spatial_0\n"
     ]
    },
    {
     "name": "stderr",
     "output_type": "stream",
     "text": [
      "100%|██████████| 94/94 [00:15<00:00,  6.05it/s]\n"
     ]
    },
    {
     "name": "stdout",
     "output_type": "stream",
     "text": [
      "Flushing database ...\n",
      "Populating fixations cache\n"
     ]
    },
    {
     "name": "stderr",
     "output_type": "stream",
     "text": [
      "100%|█████████▉| 9925/9926 [00:00<00:00, 600093.23it/s]\n"
     ]
    },
    {
     "name": "stdout",
     "output_type": "stream",
     "text": [
      "Using device cuda\n",
      "Restoring from train_deepgaze3/pretraining/final.pth\n"
     ]
    },
    {
     "ename": "FileNotFoundError",
     "evalue": "[Errno 2] No such file or directory: 'train_deepgaze3/pretraining/final.pth'",
     "output_type": "error",
     "traceback": [
      "\u001b[31m---------------------------------------------------------------------------\u001b[39m",
      "\u001b[31mFileNotFoundError\u001b[39m                         Traceback (most recent call last)",
      "\u001b[36mCell\u001b[39m\u001b[36m \u001b[39m\u001b[32mIn[15]\u001b[39m\u001b[32m, line 32\u001b[39m\n\u001b[32m     29\u001b[39m train_loader = prepare_spatial_dataset(MIT1003_stimuli_train, MIT1003_fixations_train, MIT1003_centerbias, batch_size=\u001b[32m4\u001b[39m, path=train_directory / \u001b[33m'\u001b[39m\u001b[33mlmdb_cache\u001b[39m\u001b[33m'\u001b[39m / \u001b[33mf\u001b[39m\u001b[33m'\u001b[39m\u001b[33mMIT1003_train_spatial_\u001b[39m\u001b[38;5;132;01m{\u001b[39;00mcrossval_fold\u001b[38;5;132;01m}\u001b[39;00m\u001b[33m'\u001b[39m)\n\u001b[32m     30\u001b[39m validation_loader = prepare_spatial_dataset(MIT1003_stimuli_val, MIT1003_fixations_val, MIT1003_centerbias, batch_size=\u001b[32m4\u001b[39m, path=train_directory / \u001b[33m'\u001b[39m\u001b[33mlmdb_cache\u001b[39m\u001b[33m'\u001b[39m / \u001b[33mf\u001b[39m\u001b[33m'\u001b[39m\u001b[33mMIT1003_val_spatial_\u001b[39m\u001b[38;5;132;01m{\u001b[39;00mcrossval_fold\u001b[38;5;132;01m}\u001b[39;00m\u001b[33m'\u001b[39m)\n\u001b[32m---> \u001b[39m\u001b[32m32\u001b[39m \u001b[43m_train\u001b[49m\u001b[43m(\u001b[49m\u001b[43mtrain_directory\u001b[49m\u001b[43m \u001b[49m\u001b[43m/\u001b[49m\u001b[43m \u001b[49m\u001b[33;43m'\u001b[39;49m\u001b[33;43mMIT1003_spatial\u001b[39;49m\u001b[33;43m'\u001b[39;49m\u001b[43m \u001b[49m\u001b[43m/\u001b[49m\u001b[43m \u001b[49m\u001b[33;43mf\u001b[39;49m\u001b[33;43m'\u001b[39;49m\u001b[33;43mcrossval-10-\u001b[39;49m\u001b[38;5;132;43;01m{\u001b[39;49;00m\u001b[43mcrossval_fold\u001b[49m\u001b[38;5;132;43;01m}\u001b[39;49;00m\u001b[33;43m'\u001b[39;49m\u001b[43m,\u001b[49m\n\u001b[32m     33\u001b[39m \u001b[43m    \u001b[49m\u001b[43mmodel\u001b[49m\u001b[43m,\u001b[49m\n\u001b[32m     34\u001b[39m \u001b[43m    \u001b[49m\u001b[43mtrain_loader\u001b[49m\u001b[43m,\u001b[49m\u001b[43m \u001b[49m\u001b[43mtrain_baseline_log_likelihood\u001b[49m\u001b[43m,\u001b[49m\n\u001b[32m     35\u001b[39m \u001b[43m    \u001b[49m\u001b[43mvalidation_loader\u001b[49m\u001b[43m,\u001b[49m\u001b[43m \u001b[49m\u001b[43mval_baseline_log_likelihood\u001b[49m\u001b[43m,\u001b[49m\n\u001b[32m     36\u001b[39m \u001b[43m    \u001b[49m\u001b[43moptimizer\u001b[49m\u001b[43m,\u001b[49m\u001b[43m \u001b[49m\u001b[43mlr_scheduler\u001b[49m\u001b[43m,\u001b[49m\n\u001b[32m     37\u001b[39m \u001b[43m    \u001b[49m\u001b[43mminimum_learning_rate\u001b[49m\u001b[43m=\u001b[49m\u001b[32;43m1e-7\u001b[39;49m\u001b[43m,\u001b[49m\n\u001b[32m     38\u001b[39m \u001b[43m    \u001b[49m\u001b[43mdevice\u001b[49m\u001b[43m=\u001b[49m\u001b[43mdevice\u001b[49m\u001b[43m,\u001b[49m\n\u001b[32m     39\u001b[39m \u001b[43m    \u001b[49m\u001b[43mstartwith\u001b[49m\u001b[43m=\u001b[49m\u001b[43mtrain_directory\u001b[49m\u001b[43m \u001b[49m\u001b[43m/\u001b[49m\u001b[43m \u001b[49m\u001b[33;43m'\u001b[39;49m\u001b[33;43mpretraining\u001b[39;49m\u001b[33;43m'\u001b[39;49m\u001b[43m \u001b[49m\u001b[43m/\u001b[49m\u001b[43m \u001b[49m\u001b[33;43m'\u001b[39;49m\u001b[33;43mfinal.pth\u001b[39;49m\u001b[33;43m'\u001b[39;49m\u001b[43m,\u001b[49m\n\u001b[32m     40\u001b[39m \u001b[43m\u001b[49m\u001b[43m)\u001b[49m\n\u001b[32m     43\u001b[39m \u001b[38;5;66;03m# Train scanpath model\u001b[39;00m\n\u001b[32m     45\u001b[39m train_loader = prepare_scanpath_dataset(MIT1003_stimuli_train, MIT1003_fixations_train, MIT1003_centerbias, batch_size=\u001b[32m4\u001b[39m, path=train_directory / \u001b[33m'\u001b[39m\u001b[33mlmdb_cache\u001b[39m\u001b[33m'\u001b[39m / \u001b[33mf\u001b[39m\u001b[33m'\u001b[39m\u001b[33mMIT1003_train_scanpath_\u001b[39m\u001b[38;5;132;01m{\u001b[39;00mcrossval_fold\u001b[38;5;132;01m}\u001b[39;00m\u001b[33m'\u001b[39m)\n",
      "\u001b[36mFile \u001b[39m\u001b[32m~/Decoding_Neural_Dynamics_of_Visual_Perceptual_Segmentation/DeepGaze/deepgaze_pytorch/training.py:193\u001b[39m, in \u001b[36m_train\u001b[39m\u001b[34m(this_directory, model, train_loader, train_baseline_log_likelihood, val_loader, val_baseline_log_likelihood, optimizer, lr_scheduler, minimum_learning_rate, validation_metric, validation_metrics, validation_epochs, startwith, device)\u001b[39m\n\u001b[32m    190\u001b[39m val_metrics = defaultdict(\u001b[38;5;28;01mlambda\u001b[39;00m: [])\n\u001b[32m    192\u001b[39m \u001b[38;5;28;01mif\u001b[39;00m startwith \u001b[38;5;129;01mis\u001b[39;00m \u001b[38;5;129;01mnot\u001b[39;00m \u001b[38;5;28;01mNone\u001b[39;00m:\n\u001b[32m--> \u001b[39m\u001b[32m193\u001b[39m     \u001b[43mrestore_from_checkpoint\u001b[49m\u001b[43m(\u001b[49m\u001b[43mmodel\u001b[49m\u001b[43m,\u001b[49m\u001b[43m \u001b[49m\u001b[43moptimizer\u001b[49m\u001b[43m,\u001b[49m\u001b[43m \u001b[49m\u001b[43mlr_scheduler\u001b[49m\u001b[43m,\u001b[49m\u001b[43m \u001b[49m\u001b[43mstartwith\u001b[49m\u001b[43m)\u001b[49m\n\u001b[32m    195\u001b[39m writer = SummaryWriter(os.path.join(this_directory, \u001b[33m'\u001b[39m\u001b[33mlog\u001b[39m\u001b[33m'\u001b[39m), flush_secs=\u001b[32m30\u001b[39m)\n\u001b[32m    197\u001b[39m columns = [\u001b[33m'\u001b[39m\u001b[33mepoch\u001b[39m\u001b[33m'\u001b[39m, \u001b[33m'\u001b[39m\u001b[33mtimestamp\u001b[39m\u001b[33m'\u001b[39m, \u001b[33m'\u001b[39m\u001b[33mlearning_rate\u001b[39m\u001b[33m'\u001b[39m, \u001b[33m'\u001b[39m\u001b[33mloss\u001b[39m\u001b[33m'\u001b[39m]\n",
      "\u001b[36mFile \u001b[39m\u001b[32m~/Decoding_Neural_Dynamics_of_Visual_Perceptual_Segmentation/DeepGaze/deepgaze_pytorch/training.py:130\u001b[39m, in \u001b[36mrestore_from_checkpoint\u001b[39m\u001b[34m(model, optimizer, scheduler, path)\u001b[39m\n\u001b[32m    128\u001b[39m \u001b[38;5;28;01mdef\u001b[39;00m\u001b[38;5;250m \u001b[39m\u001b[34mrestore_from_checkpoint\u001b[39m(model, optimizer, scheduler, path):\n\u001b[32m    129\u001b[39m     \u001b[38;5;28mprint\u001b[39m(\u001b[33m\"\u001b[39m\u001b[33mRestoring from\u001b[39m\u001b[33m\"\u001b[39m, path)\n\u001b[32m--> \u001b[39m\u001b[32m130\u001b[39m     data = \u001b[43mtorch\u001b[49m\u001b[43m.\u001b[49m\u001b[43mload\u001b[49m\u001b[43m(\u001b[49m\u001b[43mpath\u001b[49m\u001b[43m)\u001b[49m\n\u001b[32m    131\u001b[39m     \u001b[38;5;28;01mif\u001b[39;00m \u001b[33m'\u001b[39m\u001b[33moptimizer\u001b[39m\u001b[33m'\u001b[39m \u001b[38;5;129;01min\u001b[39;00m data:\n\u001b[32m    132\u001b[39m         \u001b[38;5;66;03m# checkpoint contains training progress\u001b[39;00m\n\u001b[32m    133\u001b[39m         model.load_state_dict(data[\u001b[33m'\u001b[39m\u001b[33mmodel\u001b[39m\u001b[33m'\u001b[39m])\n",
      "\u001b[36mFile \u001b[39m\u001b[32m~/Decoding_Neural_Dynamics_of_Visual_Perceptual_Segmentation/.pixi/envs/default/lib/python3.12/site-packages/torch/serialization.py:1425\u001b[39m, in \u001b[36mload\u001b[39m\u001b[34m(f, map_location, pickle_module, weights_only, mmap, **pickle_load_args)\u001b[39m\n\u001b[32m   1422\u001b[39m \u001b[38;5;28;01mif\u001b[39;00m \u001b[33m\"\u001b[39m\u001b[33mencoding\u001b[39m\u001b[33m\"\u001b[39m \u001b[38;5;129;01mnot\u001b[39;00m \u001b[38;5;129;01min\u001b[39;00m pickle_load_args.keys():\n\u001b[32m   1423\u001b[39m     pickle_load_args[\u001b[33m\"\u001b[39m\u001b[33mencoding\u001b[39m\u001b[33m\"\u001b[39m] = \u001b[33m\"\u001b[39m\u001b[33mutf-8\u001b[39m\u001b[33m\"\u001b[39m\n\u001b[32m-> \u001b[39m\u001b[32m1425\u001b[39m \u001b[38;5;28;01mwith\u001b[39;00m \u001b[43m_open_file_like\u001b[49m\u001b[43m(\u001b[49m\u001b[43mf\u001b[49m\u001b[43m,\u001b[49m\u001b[43m \u001b[49m\u001b[33;43m\"\u001b[39;49m\u001b[33;43mrb\u001b[39;49m\u001b[33;43m\"\u001b[39;49m\u001b[43m)\u001b[49m \u001b[38;5;28;01mas\u001b[39;00m opened_file:\n\u001b[32m   1426\u001b[39m     \u001b[38;5;28;01mif\u001b[39;00m _is_zipfile(opened_file):\n\u001b[32m   1427\u001b[39m         \u001b[38;5;66;03m# The zipfile reader is going to advance the current file position.\u001b[39;00m\n\u001b[32m   1428\u001b[39m         \u001b[38;5;66;03m# If we want to actually tail call to torch.jit.load, we need to\u001b[39;00m\n\u001b[32m   1429\u001b[39m         \u001b[38;5;66;03m# reset back to the original position.\u001b[39;00m\n\u001b[32m   1430\u001b[39m         orig_position = opened_file.tell()\n",
      "\u001b[36mFile \u001b[39m\u001b[32m~/Decoding_Neural_Dynamics_of_Visual_Perceptual_Segmentation/.pixi/envs/default/lib/python3.12/site-packages/torch/serialization.py:751\u001b[39m, in \u001b[36m_open_file_like\u001b[39m\u001b[34m(name_or_buffer, mode)\u001b[39m\n\u001b[32m    749\u001b[39m \u001b[38;5;28;01mdef\u001b[39;00m\u001b[38;5;250m \u001b[39m\u001b[34m_open_file_like\u001b[39m(name_or_buffer, mode):\n\u001b[32m    750\u001b[39m     \u001b[38;5;28;01mif\u001b[39;00m _is_path(name_or_buffer):\n\u001b[32m--> \u001b[39m\u001b[32m751\u001b[39m         \u001b[38;5;28;01mreturn\u001b[39;00m \u001b[43m_open_file\u001b[49m\u001b[43m(\u001b[49m\u001b[43mname_or_buffer\u001b[49m\u001b[43m,\u001b[49m\u001b[43m \u001b[49m\u001b[43mmode\u001b[49m\u001b[43m)\u001b[49m\n\u001b[32m    752\u001b[39m     \u001b[38;5;28;01melse\u001b[39;00m:\n\u001b[32m    753\u001b[39m         \u001b[38;5;28;01mif\u001b[39;00m \u001b[33m\"\u001b[39m\u001b[33mw\u001b[39m\u001b[33m\"\u001b[39m \u001b[38;5;129;01min\u001b[39;00m mode:\n",
      "\u001b[36mFile \u001b[39m\u001b[32m~/Decoding_Neural_Dynamics_of_Visual_Perceptual_Segmentation/.pixi/envs/default/lib/python3.12/site-packages/torch/serialization.py:732\u001b[39m, in \u001b[36m_open_file.__init__\u001b[39m\u001b[34m(self, name, mode)\u001b[39m\n\u001b[32m    731\u001b[39m \u001b[38;5;28;01mdef\u001b[39;00m\u001b[38;5;250m \u001b[39m\u001b[34m__init__\u001b[39m(\u001b[38;5;28mself\u001b[39m, name, mode):\n\u001b[32m--> \u001b[39m\u001b[32m732\u001b[39m     \u001b[38;5;28msuper\u001b[39m().\u001b[34m__init__\u001b[39m(\u001b[38;5;28;43mopen\u001b[39;49m\u001b[43m(\u001b[49m\u001b[43mname\u001b[49m\u001b[43m,\u001b[49m\u001b[43m \u001b[49m\u001b[43mmode\u001b[49m\u001b[43m)\u001b[49m)\n",
      "\u001b[31mFileNotFoundError\u001b[39m: [Errno 2] No such file or directory: 'train_deepgaze3/pretraining/final.pth'"
     ]
    }
   ],
   "source": [
    "for crossval_fold in range(10):\n",
    "    MIT1003_stimuli_train, MIT1003_fixations_train = pysaliency.dataset_config.train_split(mit_stimuli_twosize, mit_fixations_twosize, crossval_folds=10, fold_no=crossval_fold)\n",
    "    MIT1003_stimuli_val, MIT1003_fixations_val = pysaliency.dataset_config.validation_split(mit_stimuli_twosize, mit_fixations_twosize, crossval_folds=10, fold_no=crossval_fold)\n",
    "\n",
    "    train_baseline_log_likelihood = MIT1003_centerbias.information_gain(MIT1003_stimuli_train, MIT1003_fixations_train, verbose=True, average='image')\n",
    "    val_baseline_log_likelihood = MIT1003_centerbias.information_gain(MIT1003_stimuli_val, MIT1003_fixations_val, verbose=True, average='image')\n",
    "\n",
    "    # finetune spatial model on MIT1003\n",
    "\n",
    "    model = DeepGazeIII(\n",
    "        features=FeatureExtractor(RGBDenseNet201(), [\n",
    "                '1.features.denseblock4.denselayer32.norm1',\n",
    "                '1.features.denseblock4.denselayer32.conv1',\n",
    "                '1.features.denseblock4.denselayer31.conv2',\n",
    "            ]),\n",
    "        saliency_network=build_saliency_network(2048),\n",
    "        scanpath_network=None,\n",
    "        fixation_selection_network=build_fixation_selection_network(scanpath_features=0),\n",
    "        downsample=2,\n",
    "        readout_factor=4,\n",
    "        saliency_map_factor=4,\n",
    "        included_fixations=[],\n",
    "    )\n",
    "\n",
    "    model = model.to(device)\n",
    "    optimizer = torch.optim.Adam(model.parameters(), lr=0.001)\n",
    "    lr_scheduler = torch.optim.lr_scheduler.MultiStepLR(optimizer, milestones=[3, 6, 9, 12, 15, 18, 21, 24])\n",
    "\n",
    "    train_loader = prepare_spatial_dataset(MIT1003_stimuli_train, MIT1003_fixations_train, MIT1003_centerbias, batch_size=4, path=train_directory / 'lmdb_cache' / f'MIT1003_train_spatial_{crossval_fold}')\n",
    "    validation_loader = prepare_spatial_dataset(MIT1003_stimuli_val, MIT1003_fixations_val, MIT1003_centerbias, batch_size=4, path=train_directory / 'lmdb_cache' / f'MIT1003_val_spatial_{crossval_fold}')\n",
    "\n",
    "    _train(train_directory / 'MIT1003_spatial' / f'crossval-10-{crossval_fold}',\n",
    "        model,\n",
    "        train_loader, train_baseline_log_likelihood,\n",
    "        validation_loader, val_baseline_log_likelihood,\n",
    "        optimizer, lr_scheduler,\n",
    "        minimum_learning_rate=1e-7,\n",
    "        device=device,\n",
    "        startwith=train_directory / 'pretraining' / 'final.pth',\n",
    "    )\n",
    "\n",
    "\n",
    "    # Train scanpath model\n",
    "\n",
    "    train_loader = prepare_scanpath_dataset(MIT1003_stimuli_train, MIT1003_fixations_train, MIT1003_centerbias, batch_size=4, path=train_directory / 'lmdb_cache' / f'MIT1003_train_scanpath_{crossval_fold}')\n",
    "    validation_loader = prepare_scanpath_dataset(MIT1003_stimuli_val, MIT1003_fixations_val, MIT1003_centerbias, batch_size=4, path=train_directory / 'lmdb_cache' / f'MIT1003_val_scanpath_{crossval_fold}')\n",
    "\n",
    "    # first train with partially frozen saliency network\n",
    "\n",
    "\n",
    "    model = DeepGazeIII(\n",
    "        features=FeatureExtractor(RGBDenseNet201(), [\n",
    "                '1.features.denseblock4.denselayer32.norm1',\n",
    "                '1.features.denseblock4.denselayer32.conv1',\n",
    "                '1.features.denseblock4.denselayer31.conv2',\n",
    "            ]),\n",
    "        saliency_network=build_saliency_network(2048),\n",
    "        scanpath_network=build_scanpath_network(),\n",
    "        fixation_selection_network=build_fixation_selection_network(scanpath_features=16),\n",
    "        downsample=2,\n",
    "        readout_factor=4,\n",
    "        saliency_map_factor=4,\n",
    "        included_fixations=[-1, -2, -3, -4],\n",
    "    )\n",
    "    model = model.to(device)\n",
    "\n",
    "    frozen_scopes = [\n",
    "        \"saliency_network.layernorm0\",\n",
    "        \"saliency_network.conv0\",\n",
    "        \"saliency_network.bias0\",\n",
    "        \"saliency_network.layernorm1\",\n",
    "        \"saliency_network.conv1\",\n",
    "        \"saliency_network.bias1\",\n",
    "    ]\n",
    "\n",
    "    for scope in frozen_scopes:\n",
    "        for parameter_name, parameter in model.named_parameters():\n",
    "            if parameter_name.startswith(scope):\n",
    "                print(\"Fixating parameter\", parameter_name)\n",
    "                parameter.requires_grad = False\n",
    "\n",
    "\n",
    "    optimizer = torch.optim.Adam(model.parameters(), lr=0.001)\n",
    "    lr_scheduler = torch.optim.lr_scheduler.MultiStepLR(optimizer, milestones=[10, 20, 30, 31, 32, 33, 34, 35])\n",
    "\n",
    "    _train(train_directory / 'MIT1003_scanpath_partially_frozen_saliency_network' / f'crossval-10-{crossval_fold}',\n",
    "        model,\n",
    "        train_loader, train_baseline_log_likelihood,\n",
    "        validation_loader, val_baseline_log_likelihood,\n",
    "        optimizer, lr_scheduler,\n",
    "        minimum_learning_rate=1e-7,\n",
    "        device=device,\n",
    "        startwith=train_directory / 'MIT1003_spatial' /  f'crossval-10-{crossval_fold}' / 'final.pth'\n",
    "    )\n",
    "\n",
    "    # Now finetune full scanpath model\n",
    "\n",
    "    model = DeepGazeIII(\n",
    "        features=FeatureExtractor(RGBDenseNet201(), [\n",
    "                '1.features.denseblock4.denselayer32.norm1',\n",
    "                '1.features.denseblock4.denselayer32.conv1',\n",
    "                '1.features.denseblock4.denselayer31.conv2',\n",
    "            ]),\n",
    "        saliency_network=build_saliency_network(2048),\n",
    "        scanpath_network=build_scanpath_network(),\n",
    "        fixation_selection_network=build_fixation_selection_network(scanpath_features=16),\n",
    "        downsample=2,\n",
    "        readout_factor=4,\n",
    "        saliency_map_factor=4,\n",
    "        included_fixations=[-1, -2, -3, -4],\n",
    "    )\n",
    "\n",
    "    model = model.to(device)\n",
    "\n",
    "    optimizer = torch.optim.Adam(model.parameters(), lr=0.00001)\n",
    "    lr_scheduler = torch.optim.lr_scheduler.MultiStepLR(optimizer, milestones=[3, 6, 9, 12, 15, 18, 21, 24])\n",
    "\n",
    "    _train(train_directory / 'MIT1003_scanpath' / f'crossval-10-{crossval_fold}',\n",
    "        model,\n",
    "        train_loader, train_baseline_log_likelihood,\n",
    "        validation_loader, val_baseline_log_likelihood,\n",
    "        optimizer, lr_scheduler,\n",
    "        minimum_learning_rate=1e-7,\n",
    "        device=device,\n",
    "        startwith=train_directory / 'MIT1003_scanpath_partially_frozen_saliency_network' / f'crossval-10-{crossval_fold}' / 'final.pth'\n",
    "    )\n"
   ]
  },
  {
   "cell_type": "code",
   "execution_count": null,
   "metadata": {},
   "outputs": [],
   "source": []
  }
 ],
 "metadata": {
  "kernelspec": {
   "display_name": "default",
   "language": "python",
   "name": "python3"
  },
  "language_info": {
   "codemirror_mode": {
    "name": "ipython",
    "version": 3
   },
   "file_extension": ".py",
   "mimetype": "text/x-python",
   "name": "python",
   "nbconvert_exporter": "python",
   "pygments_lexer": "ipython3",
   "version": "3.12.9"
  },
  "orig_nbformat": 4
 },
 "nbformat": 4,
 "nbformat_minor": 2
}
